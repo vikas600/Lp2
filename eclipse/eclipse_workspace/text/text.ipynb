{
 "cells": [
  {
   "cell_type": "code",
   "execution_count": null,
   "id": "577ca3c6-f2ad-4c92-845d-92a55bc6bd77",
   "metadata": {},
   "outputs": [],
   "source": [
    "import nltk\n",
    "from nltk.tokenize import word_tokenize\n",
    "from nltk.corpus import stopwords\n",
    "from nltk.stem import PorterStemmer, WordNetLemmatizer\n",
    "from sklearn.feature_extraction.text import TfidfVectorizer"
   ]
  },
  {
   "cell_type": "code",
   "execution_count": 25,
   "id": "e229b251-df85-4520-a573-a56af6642818",
   "metadata": {},
   "outputs": [
    {
     "data": {
      "text/plain": [
       "True"
      ]
     },
     "execution_count": 25,
     "metadata": {},
     "output_type": "execute_result"
    }
   ],
   "source": [
    "nltk.download('all', quiet=True) #NLTK ke saare resources download hote hain."
   ]
  },
  {
   "cell_type": "code",
   "execution_count": 26,
   "id": "7b47537c-7bbf-46fc-8397-0f8ffb2652ec",
   "metadata": {},
   "outputs": [],
   "source": [
    "text = \"The sky is blue and beautiful. The sun is bright and shining.\""
   ]
  },
  {
   "cell_type": "code",
   "execution_count": 27,
   "id": "1308ee03-de6f-4340-9112-21cc19a0c4cf",
   "metadata": {},
   "outputs": [
    {
     "name": "stdout",
     "output_type": "stream",
     "text": [
      "Tokens: ['The', 'sky', 'is', 'blue', 'and', 'beautiful', '.', 'The', 'sun', 'is', 'bright', 'and', 'shining', '.']\n"
     ]
    }
   ],
   "source": [
    "# Tokenization\n",
    "tokens = word_tokenize(text)\n",
    "print(\"Tokens:\", tokens)"
   ]
  },
  {
   "cell_type": "code",
   "execution_count": 28,
   "id": "82090fa4-8c51-490f-a9ba-86978e3fc160",
   "metadata": {},
   "outputs": [
    {
     "name": "stdout",
     "output_type": "stream",
     "text": [
      "POS Tags: [('The', 'DT'), ('sky', 'NN'), ('is', 'VBZ'), ('blue', 'JJ'), ('and', 'CC'), ('beautiful', 'JJ'), ('.', '.'), ('The', 'DT'), ('sun', 'NN'), ('is', 'VBZ'), ('bright', 'JJ'), ('and', 'CC'), ('shining', 'NN'), ('.', '.')]\n"
     ]
    }
   ],
   "source": [
    "# POS Tagging\n",
    "pos_tags = nltk.pos_tag(tokens)\n",
    "print(\"POS Tags:\", pos_tags)"
   ]
  },
  {
   "cell_type": "code",
   "execution_count": 29,
   "id": "ff7e4642-a9c4-46e9-a978-0bad760611be",
   "metadata": {},
   "outputs": [
    {
     "name": "stdout",
     "output_type": "stream",
     "text": [
      "After Stopwords Removal: ['sky', 'blue', 'beautiful', '.', 'sun', 'bright', 'shining', '.']\n"
     ]
    }
   ],
   "source": [
    "\n",
    "# Stop Words Removal\n",
    "stop_words = set(stopwords.words('english'))\n",
    "filtered_tokens = [word for word in tokens if word.lower() not in stop_words]\n",
    "print(\"After Stopwords Removal:\", filtered_tokens)"
   ]
  },
  {
   "cell_type": "code",
   "execution_count": 30,
   "id": "2ad23e5a-99e0-4e95-83e6-cbeb443dbbb2",
   "metadata": {},
   "outputs": [
    {
     "name": "stdout",
     "output_type": "stream",
     "text": [
      "After Stemming: ['sky', 'blue', 'beauti', '.', 'sun', 'bright', 'shine', '.']\n"
     ]
    }
   ],
   "source": [
    "# Stemming\n",
    "stemmer = PorterStemmer()\n",
    "stemmed_tokens = [stemmer.stem(word) for word in filtered_tokens]\n",
    "print(\"After Stemming:\", stemmed_tokens)"
   ]
  },
  {
   "cell_type": "code",
   "execution_count": 31,
   "id": "ed709b66-8e0b-4404-9c16-37826c953836",
   "metadata": {},
   "outputs": [
    {
     "name": "stdout",
     "output_type": "stream",
     "text": [
      "After Lemmatization: ['sky', 'blue', 'beautiful', '.', 'sun', 'bright', 'shining', '.']\n"
     ]
    }
   ],
   "source": [
    "# Lemmatization\n",
    "lemmatizer = WordNetLemmatizer()\n",
    "lemmatized_tokens = [lemmatizer.lemmatize(word) for word in filtered_tokens]\n",
    "print(\"After Lemmatization:\", lemmatized_tokens)"
   ]
  },
  {
   "cell_type": "code",
   "execution_count": 32,
   "id": "05b2146e-12ac-423b-838c-046ff73f297e",
   "metadata": {},
   "outputs": [
    {
     "name": "stdout",
     "output_type": "stream",
     "text": [
      "TF-IDF Features: ['beautiful' 'blue' 'bright' 'shining' 'sky' 'sun']\n",
      "TF-IDF Matrix: [[0.40824829 0.40824829 0.40824829 0.40824829 0.40824829 0.40824829]]\n"
     ]
    }
   ],
   "source": [
    "# TF-IDF\n",
    "vectorizer = TfidfVectorizer()\n",
    "X = vectorizer.fit_transform([\" \".join(lemmatized_tokens)])\n",
    "print(\"TF-IDF Features:\", vectorizer.get_feature_names_out())\n",
    "print(\"TF-IDF Matrix:\", X.toarray())"
   ]
  },
  {
   "cell_type": "code",
   "execution_count": null,
   "id": "4836afd1-7d15-403a-99f3-a12599c3733e",
   "metadata": {},
   "outputs": [],
   "source": []
  }
 ],
 "metadata": {
  "kernelspec": {
   "display_name": "Python 3 (ipykernel)",
   "language": "python",
   "name": "python3"
  },
  "language_info": {
   "codemirror_mode": {
    "name": "ipython",
    "version": 3
   },
   "file_extension": ".py",
   "mimetype": "text/x-python",
   "name": "python",
   "nbconvert_exporter": "python",
   "pygments_lexer": "ipython3",
   "version": "3.12.1"
  }
 },
 "nbformat": 4,
 "nbformat_minor": 5
}
