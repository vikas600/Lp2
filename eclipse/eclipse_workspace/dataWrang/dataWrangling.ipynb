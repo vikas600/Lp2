{
 "cells": [
  {
   "cell_type": "code",
   "execution_count": 10,
   "id": "2a84536b-737f-47c6-a10c-7d69347940c5",
   "metadata": {},
   "outputs": [],
   "source": [
    "import pandas as pd\n",
    "import numpy as np"
   ]
  },
  {
   "cell_type": "code",
   "execution_count": 11,
   "id": "4b098535-9828-421c-81de-c9761f3fe40d",
   "metadata": {},
   "outputs": [],
   "source": [
    "df=pd.read_csv('student.csv')"
   ]
  },
  {
   "cell_type": "code",
   "execution_count": 4,
   "id": "4df14cf9-c628-485d-afd3-4e4c94edd25f",
   "metadata": {},
   "outputs": [
    {
     "name": "stdout",
     "output_type": "stream",
     "text": [
      "     Name   Age  Gender Marks       City\n",
      "0   Rahul  20.0    Male    85      Delhi\n",
      "1   Priya  19.0  Female    92     Mumbai\n",
      "2    Amit   NaN    Male    78  Bangalore\n",
      "3   Sneha   NaN  Female    88    Chennai\n",
      "4  Vikram  22.0    Male  Amit       Pune\n"
     ]
    }
   ],
   "source": [
    "print(df.head())"
   ]
  },
  {
   "cell_type": "code",
   "execution_count": 12,
   "id": "3b785c2d-0f98-45dd-93a4-52ba9ab4d7e2",
   "metadata": {},
   "outputs": [
    {
     "name": "stdout",
     "output_type": "stream",
     "text": [
      "\n",
      " Missing values:\n",
      " Name      0\n",
      "Age       2\n",
      "Gender    0\n",
      "Marks     0\n",
      "City      0\n",
      "dtype: int64\n"
     ]
    }
   ],
   "source": [
    "\n",
    "print(\"\\n Missing values:\\n\", df.isnull().sum())"
   ]
  },
  {
   "cell_type": "code",
   "execution_count": null,
   "id": "4ef9d0d5-f046-4102-9565-b49284d00236",
   "metadata": {},
   "outputs": [
    {
     "name": "stdout",
     "output_type": "stream",
     "text": [
      "\n",
      " Data description : \n",
      "              Age\n",
      "count   3.000000\n",
      "mean   20.333333\n",
      "std     1.527525\n",
      "min    19.000000\n",
      "25%    19.500000\n",
      "50%    20.000000\n",
      "75%    21.000000\n",
      "max    22.000000\n"
     ]
    }
   ],
   "source": [
    "print(\"\\n Data description : \\n\", df.describe())"
   ]
  },
  {
   "cell_type": "code",
   "execution_count": 14,
   "id": "f19190ca-77e9-4a61-a41e-893995fb0fa4",
   "metadata": {},
   "outputs": [
    {
     "name": "stdout",
     "output_type": "stream",
     "text": [
      "\n",
      " Data Info:\n",
      "\n",
      "<class 'pandas.core.frame.DataFrame'>\n",
      "RangeIndex: 5 entries, 0 to 4\n",
      "Data columns (total 5 columns):\n",
      " #   Column  Non-Null Count  Dtype  \n",
      "---  ------  --------------  -----  \n",
      " 0   Name    5 non-null      object \n",
      " 1   Age     3 non-null      float64\n",
      " 2   Gender  5 non-null      object \n",
      " 3   Marks   5 non-null      object \n",
      " 4   City    5 non-null      object \n",
      "dtypes: float64(1), object(4)\n",
      "memory usage: 332.0+ bytes\n",
      "None\n"
     ]
    }
   ],
   "source": [
    "print(\"\\n Data Info:\\n\")\n",
    "print(df.info())"
   ]
  },
  {
   "cell_type": "code",
   "execution_count": 15,
   "id": "a0b8f420-3b52-4890-a22a-0bbe12f9d5ec",
   "metadata": {},
   "outputs": [],
   "source": [
    "df['Marks']=pd.to_numeric(df['Marks'],errors='coerce')"
   ]
  },
  {
   "cell_type": "code",
   "execution_count": 16,
   "id": "c55ed119-b01a-4643-b664-6067c64c2462",
   "metadata": {},
   "outputs": [
    {
     "name": "stdout",
     "output_type": "stream",
     "text": [
      "     Name   Age  Gender  Marks       City\n",
      "0   Rahul  20.0    Male   85.0      Delhi\n",
      "1   Priya  19.0  Female   92.0     Mumbai\n",
      "2    Amit   NaN    Male   78.0  Bangalore\n",
      "3   Sneha   NaN  Female   88.0    Chennai\n",
      "4  Vikram  22.0    Male    NaN       Pune\n"
     ]
    }
   ],
   "source": [
    "print(df)"
   ]
  },
  {
   "cell_type": "code",
   "execution_count": 17,
   "id": "07ff3007-c3ba-4f20-b002-6d99ad52c68c",
   "metadata": {},
   "outputs": [
    {
     "name": "stdout",
     "output_type": "stream",
     "text": [
      "\n",
      " Converting Catergorical in number \n",
      "\n"
     ]
    }
   ],
   "source": [
    "print(\"\\n Converting Catergorical in number \\n\")\n",
    "\n",
    "df= pd.get_dummies(df, columns=['City'], drop_first=True)"
   ]
  },
  {
   "cell_type": "code",
   "execution_count": 14,
   "id": "de4c9cab-5ee3-40bf-97f2-3f7a4f2e75be",
   "metadata": {},
   "outputs": [
    {
     "name": "stdout",
     "output_type": "stream",
     "text": [
      "     Name   Age  Gender  Marks  City_Chennai  City_Delhi  City_Mumbai  \\\n",
      "0   Rahul  20.0    Male   85.0         False        True        False   \n",
      "1   Priya  19.0  Female   92.0         False       False         True   \n",
      "2    Amit   NaN    Male   78.0         False       False        False   \n",
      "3   Sneha   NaN  Female   88.0          True       False        False   \n",
      "4  Vikram  22.0    Male    NaN         False       False        False   \n",
      "\n",
      "   City_Pune  \n",
      "0      False  \n",
      "1      False  \n",
      "2      False  \n",
      "3      False  \n",
      "4       True  \n"
     ]
    }
   ],
   "source": [
    "print(df.head())"
   ]
  },
  {
   "cell_type": "code",
   "execution_count": 15,
   "id": "30fdd558-a469-41a3-b9b0-dcebd366d8c3",
   "metadata": {},
   "outputs": [
    {
     "data": {
      "text/plain": [
       "Name              Amit\n",
       "Age               19.0\n",
       "Gender          Female\n",
       "Marks             78.0\n",
       "City_Chennai     False\n",
       "City_Delhi       False\n",
       "City_Mumbai      False\n",
       "City_Pune        False\n",
       "dtype: object"
      ]
     },
     "execution_count": 15,
     "metadata": {},
     "output_type": "execute_result"
    }
   ],
   "source": [
    "df.min()"
   ]
  },
  {
   "cell_type": "code",
   "execution_count": 16,
   "id": "cc74b32b-0c27-40d7-a397-30c104ac6172",
   "metadata": {},
   "outputs": [
    {
     "data": {
      "text/html": [
       "<div>\n",
       "<style scoped>\n",
       "    .dataframe tbody tr th:only-of-type {\n",
       "        vertical-align: middle;\n",
       "    }\n",
       "\n",
       "    .dataframe tbody tr th {\n",
       "        vertical-align: top;\n",
       "    }\n",
       "\n",
       "    .dataframe thead th {\n",
       "        text-align: right;\n",
       "    }\n",
       "</style>\n",
       "<table border=\"1\" class=\"dataframe\">\n",
       "  <thead>\n",
       "    <tr style=\"text-align: right;\">\n",
       "      <th></th>\n",
       "      <th>Name</th>\n",
       "      <th>Age</th>\n",
       "      <th>Gender</th>\n",
       "      <th>Marks</th>\n",
       "      <th>City_Chennai</th>\n",
       "      <th>City_Delhi</th>\n",
       "      <th>City_Mumbai</th>\n",
       "      <th>City_Pune</th>\n",
       "    </tr>\n",
       "  </thead>\n",
       "  <tbody>\n",
       "    <tr>\n",
       "      <th>0</th>\n",
       "      <td>Rahul</td>\n",
       "      <td>20.0</td>\n",
       "      <td>Male</td>\n",
       "      <td>85.0</td>\n",
       "      <td>False</td>\n",
       "      <td>True</td>\n",
       "      <td>False</td>\n",
       "      <td>False</td>\n",
       "    </tr>\n",
       "    <tr>\n",
       "      <th>1</th>\n",
       "      <td>Priya</td>\n",
       "      <td>19.0</td>\n",
       "      <td>Female</td>\n",
       "      <td>92.0</td>\n",
       "      <td>False</td>\n",
       "      <td>False</td>\n",
       "      <td>True</td>\n",
       "      <td>False</td>\n",
       "    </tr>\n",
       "    <tr>\n",
       "      <th>2</th>\n",
       "      <td>Amit</td>\n",
       "      <td>NaN</td>\n",
       "      <td>Male</td>\n",
       "      <td>78.0</td>\n",
       "      <td>False</td>\n",
       "      <td>False</td>\n",
       "      <td>False</td>\n",
       "      <td>False</td>\n",
       "    </tr>\n",
       "    <tr>\n",
       "      <th>3</th>\n",
       "      <td>Sneha</td>\n",
       "      <td>NaN</td>\n",
       "      <td>Female</td>\n",
       "      <td>88.0</td>\n",
       "      <td>True</td>\n",
       "      <td>False</td>\n",
       "      <td>False</td>\n",
       "      <td>False</td>\n",
       "    </tr>\n",
       "    <tr>\n",
       "      <th>4</th>\n",
       "      <td>Vikram</td>\n",
       "      <td>22.0</td>\n",
       "      <td>Male</td>\n",
       "      <td>NaN</td>\n",
       "      <td>False</td>\n",
       "      <td>False</td>\n",
       "      <td>False</td>\n",
       "      <td>True</td>\n",
       "    </tr>\n",
       "  </tbody>\n",
       "</table>\n",
       "</div>"
      ],
      "text/plain": [
       "     Name   Age  Gender  Marks  City_Chennai  City_Delhi  City_Mumbai  \\\n",
       "0   Rahul  20.0    Male   85.0         False        True        False   \n",
       "1   Priya  19.0  Female   92.0         False       False         True   \n",
       "2    Amit   NaN    Male   78.0         False       False        False   \n",
       "3   Sneha   NaN  Female   88.0          True       False        False   \n",
       "4  Vikram  22.0    Male    NaN         False       False        False   \n",
       "\n",
       "   City_Pune  \n",
       "0      False  \n",
       "1      False  \n",
       "2      False  \n",
       "3      False  \n",
       "4       True  "
      ]
     },
     "execution_count": 16,
     "metadata": {},
     "output_type": "execute_result"
    }
   ],
   "source": [
    "df.head()"
   ]
  },
  {
   "cell_type": "code",
   "execution_count": null,
   "id": "be9dc48c-34b8-46b3-928b-f019fef56247",
   "metadata": {},
   "outputs": [],
   "source": []
  }
 ],
 "metadata": {
  "kernelspec": {
   "display_name": "Python 3 (ipykernel)",
   "language": "python",
   "name": "python3"
  },
  "language_info": {
   "codemirror_mode": {
    "name": "ipython",
    "version": 3
   },
   "file_extension": ".py",
   "mimetype": "text/x-python",
   "name": "python",
   "nbconvert_exporter": "python",
   "pygments_lexer": "ipython3",
   "version": "3.12.1"
  }
 },
 "nbformat": 4,
 "nbformat_minor": 5
}
