{
 "cells": [
  {
   "cell_type": "code",
   "execution_count": 1,
   "id": "55580216-aafb-45e9-b5fd-16130856e365",
   "metadata": {},
   "outputs": [],
   "source": [
    "import numpy as np\n",
    "import pandas as pd\n",
    "import matplotlib.pyplot as plt"
   ]
  },
  {
   "cell_type": "code",
   "execution_count": 2,
   "id": "3e3bba9f-9e23-4978-8598-b7171381a125",
   "metadata": {},
   "outputs": [],
   "source": [
    "df= pd.read_csv('academic_performance.csv')"
   ]
  },
  {
   "cell_type": "code",
   "execution_count": 3,
   "id": "77481c50-a245-4aba-a8d8-6bbed5527995",
   "metadata": {},
   "outputs": [
    {
     "data": {
      "text/plain": [
       "Name          0\n",
       "Age           2\n",
       "Marks         0\n",
       "Attendance    2\n",
       "dtype: int64"
      ]
     },
     "execution_count": 3,
     "metadata": {},
     "output_type": "execute_result"
    }
   ],
   "source": [
    "df.isnull().sum()"
   ]
  },
  {
   "cell_type": "code",
   "execution_count": 4,
   "id": "695a6c7d-e77b-48d1-9d7f-bfc3036a917e",
   "metadata": {},
   "outputs": [],
   "source": [
    "df['Age']=df['Age'].fillna(df['Age'].mean())\n",
    "df['Attendance']=df['Attendance'].fillna(df['Attendance'].mean())"
   ]
  },
  {
   "cell_type": "code",
   "execution_count": 5,
   "id": "e7d143f9-d04a-4be4-997a-6e58e3b5bac2",
   "metadata": {},
   "outputs": [
    {
     "data": {
      "text/html": [
       "<div>\n",
       "<style scoped>\n",
       "    .dataframe tbody tr th:only-of-type {\n",
       "        vertical-align: middle;\n",
       "    }\n",
       "\n",
       "    .dataframe tbody tr th {\n",
       "        vertical-align: top;\n",
       "    }\n",
       "\n",
       "    .dataframe thead th {\n",
       "        text-align: right;\n",
       "    }\n",
       "</style>\n",
       "<table border=\"1\" class=\"dataframe\">\n",
       "  <thead>\n",
       "    <tr style=\"text-align: right;\">\n",
       "      <th></th>\n",
       "      <th>Name</th>\n",
       "      <th>Age</th>\n",
       "      <th>Marks</th>\n",
       "      <th>Attendance</th>\n",
       "    </tr>\n",
       "  </thead>\n",
       "  <tbody>\n",
       "    <tr>\n",
       "      <th>0</th>\n",
       "      <td>Rahul</td>\n",
       "      <td>20.0</td>\n",
       "      <td>85</td>\n",
       "      <td>90.0</td>\n",
       "    </tr>\n",
       "    <tr>\n",
       "      <th>1</th>\n",
       "      <td>Priya</td>\n",
       "      <td>19.0</td>\n",
       "      <td>92</td>\n",
       "      <td>95.0</td>\n",
       "    </tr>\n",
       "    <tr>\n",
       "      <th>2</th>\n",
       "      <td>Amit</td>\n",
       "      <td>21.0</td>\n",
       "      <td>78</td>\n",
       "      <td>87.0</td>\n",
       "    </tr>\n",
       "    <tr>\n",
       "      <th>3</th>\n",
       "      <td>Sneha</td>\n",
       "      <td>21.0</td>\n",
       "      <td>88</td>\n",
       "      <td>87.0</td>\n",
       "    </tr>\n",
       "    <tr>\n",
       "      <th>4</th>\n",
       "      <td>Vikram</td>\n",
       "      <td>22.0</td>\n",
       "      <td>1000</td>\n",
       "      <td>92.0</td>\n",
       "    </tr>\n",
       "  </tbody>\n",
       "</table>\n",
       "</div>"
      ],
      "text/plain": [
       "     Name   Age  Marks  Attendance\n",
       "0   Rahul  20.0     85        90.0\n",
       "1   Priya  19.0     92        95.0\n",
       "2    Amit  21.0     78        87.0\n",
       "3   Sneha  21.0     88        87.0\n",
       "4  Vikram  22.0   1000        92.0"
      ]
     },
     "execution_count": 5,
     "metadata": {},
     "output_type": "execute_result"
    }
   ],
   "source": [
    "df.head()"
   ]
  },
  {
   "cell_type": "code",
   "execution_count": 22,
   "id": "0bcc5a85-ed84-4f75-a980-4129923b79bb",
   "metadata": {},
   "outputs": [
    {
     "data": {
      "image/png": "[encoded data removed]",
      "text/plain": [
       "<Figure size 640x480 with 1 Axes>"
      ]
     },
     "metadata": {},
     "output_type": "display_data"
    }
   ],
   "source": [
    "plt.boxplot(df['Marks'])\n",
    "plt.title('Box plot of Marks')\n",
    "plt.show()"
   ]
  },
  {
   "cell_type": "code",
   "execution_count": 13,
   "id": "49b43389-5d8a-452b-862f-0c33ea17954a",
   "metadata": {},
   "outputs": [],
   "source": [
    "df= df[df['Marks'] < 100]"
   ]
  },
  {
   "cell_type": "code",
   "execution_count": 14,
   "id": "a5edefbb-80bf-4ba9-87d3-fa240e8c3d68",
   "metadata": {},
   "outputs": [
    {
     "data": {
      "text/html": [
       "<div>\n",
       "<style scoped>\n",
       "    .dataframe tbody tr th:only-of-type {\n",
       "        vertical-align: middle;\n",
       "    }\n",
       "\n",
       "    .dataframe tbody tr th {\n",
       "        vertical-align: top;\n",
       "    }\n",
       "\n",
       "    .dataframe thead th {\n",
       "        text-align: right;\n",
       "    }\n",
       "</style>\n",
       "<table border=\"1\" class=\"dataframe\">\n",
       "  <thead>\n",
       "    <tr style=\"text-align: right;\">\n",
       "      <th></th>\n",
       "      <th>Name</th>\n",
       "      <th>Age</th>\n",
       "      <th>Marks</th>\n",
       "      <th>Attendance</th>\n",
       "    </tr>\n",
       "  </thead>\n",
       "  <tbody>\n",
       "    <tr>\n",
       "      <th>0</th>\n",
       "      <td>Rahul</td>\n",
       "      <td>20.0</td>\n",
       "      <td>85</td>\n",
       "      <td>90.0</td>\n",
       "    </tr>\n",
       "    <tr>\n",
       "      <th>1</th>\n",
       "      <td>Priya</td>\n",
       "      <td>19.0</td>\n",
       "      <td>92</td>\n",
       "      <td>95.0</td>\n",
       "    </tr>\n",
       "    <tr>\n",
       "      <th>2</th>\n",
       "      <td>Amit</td>\n",
       "      <td>21.0</td>\n",
       "      <td>78</td>\n",
       "      <td>87.0</td>\n",
       "    </tr>\n",
       "    <tr>\n",
       "      <th>3</th>\n",
       "      <td>Sneha</td>\n",
       "      <td>21.0</td>\n",
       "      <td>88</td>\n",
       "      <td>87.0</td>\n",
       "    </tr>\n",
       "    <tr>\n",
       "      <th>5</th>\n",
       "      <td>Anjali</td>\n",
       "      <td>21.0</td>\n",
       "      <td>95</td>\n",
       "      <td>88.0</td>\n",
       "    </tr>\n",
       "    <tr>\n",
       "      <th>6</th>\n",
       "      <td>Karan</td>\n",
       "      <td>23.0</td>\n",
       "      <td>77</td>\n",
       "      <td>70.0</td>\n",
       "    </tr>\n",
       "  </tbody>\n",
       "</table>\n",
       "</div>"
      ],
      "text/plain": [
       "     Name   Age  Marks  Attendance\n",
       "0   Rahul  20.0     85        90.0\n",
       "1   Priya  19.0     92        95.0\n",
       "2    Amit  21.0     78        87.0\n",
       "3   Sneha  21.0     88        87.0\n",
       "5  Anjali  21.0     95        88.0\n",
       "6   Karan  23.0     77        70.0"
      ]
     },
     "execution_count": 14,
     "metadata": {},
     "output_type": "execute_result"
    }
   ],
   "source": [
    "df"
   ]
  },
  {
   "cell_type": "code",
   "execution_count": 6,
   "id": "25146b8f-e2cc-44bf-b5c6-37f5bfac5321",
   "metadata": {},
   "outputs": [],
   "source": [
    "df['Marks']=df['Marks'].apply(lambda x: 100 if x>100 else x)"
   ]
  },
  {
   "cell_type": "code",
   "execution_count": 7,
   "id": "3c50aa14-1fb3-46f5-8b91-2611869a127e",
   "metadata": {},
   "outputs": [
    {
     "data": {
      "text/html": [
       "<div>\n",
       "<style scoped>\n",
       "    .dataframe tbody tr th:only-of-type {\n",
       "        vertical-align: middle;\n",
       "    }\n",
       "\n",
       "    .dataframe tbody tr th {\n",
       "        vertical-align: top;\n",
       "    }\n",
       "\n",
       "    .dataframe thead th {\n",
       "        text-align: right;\n",
       "    }\n",
       "</style>\n",
       "<table border=\"1\" class=\"dataframe\">\n",
       "  <thead>\n",
       "    <tr style=\"text-align: right;\">\n",
       "      <th></th>\n",
       "      <th>Name</th>\n",
       "      <th>Age</th>\n",
       "      <th>Marks</th>\n",
       "      <th>Attendance</th>\n",
       "    </tr>\n",
       "  </thead>\n",
       "  <tbody>\n",
       "    <tr>\n",
       "      <th>0</th>\n",
       "      <td>Rahul</td>\n",
       "      <td>20.0</td>\n",
       "      <td>85</td>\n",
       "      <td>90.0</td>\n",
       "    </tr>\n",
       "    <tr>\n",
       "      <th>1</th>\n",
       "      <td>Priya</td>\n",
       "      <td>19.0</td>\n",
       "      <td>92</td>\n",
       "      <td>95.0</td>\n",
       "    </tr>\n",
       "    <tr>\n",
       "      <th>2</th>\n",
       "      <td>Amit</td>\n",
       "      <td>21.0</td>\n",
       "      <td>78</td>\n",
       "      <td>87.0</td>\n",
       "    </tr>\n",
       "    <tr>\n",
       "      <th>3</th>\n",
       "      <td>Sneha</td>\n",
       "      <td>21.0</td>\n",
       "      <td>88</td>\n",
       "      <td>87.0</td>\n",
       "    </tr>\n",
       "    <tr>\n",
       "      <th>4</th>\n",
       "      <td>Vikram</td>\n",
       "      <td>22.0</td>\n",
       "      <td>100</td>\n",
       "      <td>92.0</td>\n",
       "    </tr>\n",
       "    <tr>\n",
       "      <th>5</th>\n",
       "      <td>Anjali</td>\n",
       "      <td>21.0</td>\n",
       "      <td>95</td>\n",
       "      <td>88.0</td>\n",
       "    </tr>\n",
       "    <tr>\n",
       "      <th>6</th>\n",
       "      <td>Karan</td>\n",
       "      <td>23.0</td>\n",
       "      <td>77</td>\n",
       "      <td>70.0</td>\n",
       "    </tr>\n",
       "  </tbody>\n",
       "</table>\n",
       "</div>"
      ],
      "text/plain": [
       "     Name   Age  Marks  Attendance\n",
       "0   Rahul  20.0     85        90.0\n",
       "1   Priya  19.0     92        95.0\n",
       "2    Amit  21.0     78        87.0\n",
       "3   Sneha  21.0     88        87.0\n",
       "4  Vikram  22.0    100        92.0\n",
       "5  Anjali  21.0     95        88.0\n",
       "6   Karan  23.0     77        70.0"
      ]
     },
     "execution_count": 7,
     "metadata": {},
     "output_type": "execute_result"
    }
   ],
   "source": [
    "df"
   ]
  },
  {
   "cell_type": "code",
   "execution_count": 8,
   "id": "fc514e56-1cd3-44d1-9c13-ca02a10350d5",
   "metadata": {},
   "outputs": [],
   "source": [
    "df['Marks_log'] =np.log(df['Marks'])"
   ]
  },
  {
   "cell_type": "code",
   "execution_count": 9,
   "id": "cbdf05c1-8e30-4484-92d6-110cd42dda7c",
   "metadata": {},
   "outputs": [
    {
     "data": {
      "text/html": [
       "<div>\n",
       "<style scoped>\n",
       "    .dataframe tbody tr th:only-of-type {\n",
       "        vertical-align: middle;\n",
       "    }\n",
       "\n",
       "    .dataframe tbody tr th {\n",
       "        vertical-align: top;\n",
       "    }\n",
       "\n",
       "    .dataframe thead th {\n",
       "        text-align: right;\n",
       "    }\n",
       "</style>\n",
       "<table border=\"1\" class=\"dataframe\">\n",
       "  <thead>\n",
       "    <tr style=\"text-align: right;\">\n",
       "      <th></th>\n",
       "      <th>Name</th>\n",
       "      <th>Age</th>\n",
       "      <th>Marks</th>\n",
       "      <th>Attendance</th>\n",
       "      <th>Marks_log</th>\n",
       "    </tr>\n",
       "  </thead>\n",
       "  <tbody>\n",
       "    <tr>\n",
       "      <th>0</th>\n",
       "      <td>Rahul</td>\n",
       "      <td>20.0</td>\n",
       "      <td>85</td>\n",
       "      <td>90.0</td>\n",
       "      <td>4.442651</td>\n",
       "    </tr>\n",
       "    <tr>\n",
       "      <th>1</th>\n",
       "      <td>Priya</td>\n",
       "      <td>19.0</td>\n",
       "      <td>92</td>\n",
       "      <td>95.0</td>\n",
       "      <td>4.521789</td>\n",
       "    </tr>\n",
       "    <tr>\n",
       "      <th>2</th>\n",
       "      <td>Amit</td>\n",
       "      <td>21.0</td>\n",
       "      <td>78</td>\n",
       "      <td>87.0</td>\n",
       "      <td>4.356709</td>\n",
       "    </tr>\n",
       "    <tr>\n",
       "      <th>3</th>\n",
       "      <td>Sneha</td>\n",
       "      <td>21.0</td>\n",
       "      <td>88</td>\n",
       "      <td>87.0</td>\n",
       "      <td>4.477337</td>\n",
       "    </tr>\n",
       "    <tr>\n",
       "      <th>4</th>\n",
       "      <td>Vikram</td>\n",
       "      <td>22.0</td>\n",
       "      <td>100</td>\n",
       "      <td>92.0</td>\n",
       "      <td>4.605170</td>\n",
       "    </tr>\n",
       "    <tr>\n",
       "      <th>5</th>\n",
       "      <td>Anjali</td>\n",
       "      <td>21.0</td>\n",
       "      <td>95</td>\n",
       "      <td>88.0</td>\n",
       "      <td>4.553877</td>\n",
       "    </tr>\n",
       "    <tr>\n",
       "      <th>6</th>\n",
       "      <td>Karan</td>\n",
       "      <td>23.0</td>\n",
       "      <td>77</td>\n",
       "      <td>70.0</td>\n",
       "      <td>4.343805</td>\n",
       "    </tr>\n",
       "  </tbody>\n",
       "</table>\n",
       "</div>"
      ],
      "text/plain": [
       "     Name   Age  Marks  Attendance  Marks_log\n",
       "0   Rahul  20.0     85        90.0   4.442651\n",
       "1   Priya  19.0     92        95.0   4.521789\n",
       "2    Amit  21.0     78        87.0   4.356709\n",
       "3   Sneha  21.0     88        87.0   4.477337\n",
       "4  Vikram  22.0    100        92.0   4.605170\n",
       "5  Anjali  21.0     95        88.0   4.553877\n",
       "6   Karan  23.0     77        70.0   4.343805"
      ]
     },
     "execution_count": 9,
     "metadata": {},
     "output_type": "execute_result"
    }
   ],
   "source": [
    "df"
   ]
  },
  {
   "cell_type": "code",
   "execution_count": null,
   "id": "f156c9c3-f7ea-45b3-baf7-b8af72ea1f36",
   "metadata": {},
   "outputs": [],
   "source": []
  }
 ],
 "metadata": {
  "kernelspec": {
   "display_name": "Python 3 (ipykernel)",
   "language": "python",
   "name": "python3"
  },
  "language_info": {
   "codemirror_mode": {
    "name": "ipython",
    "version": 3
   },
   "file_extension": ".py",
   "mimetype": "text/x-python",
   "name": "python",
   "nbconvert_exporter": "python",
   "pygments_lexer": "ipython3",
   "version": "3.12.1"
  }
 },
 "nbformat": 4,
 "nbformat_minor": 5
}
